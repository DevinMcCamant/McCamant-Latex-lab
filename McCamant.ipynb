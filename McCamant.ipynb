{
 "cells": [
  {
   "cell_type": "markdown",
   "id": "6b9b136d",
   "metadata": {},
   "source": [
    "# Rule 1 Function"
   ]
  },
  {
   "cell_type": "code",
   "execution_count": null,
   "id": "5580acc8",
   "metadata": {},
   "outputs": [],
   "source": [
    "import numpy as np\n",
    "\n",
    "def rule1(c,dA):\n",
    "    dQ = c * dA\n",
    "    return dQ\n",
    "c = 3\n",
    "dA = .1\n",
    "dQ = rule1(c,dA)\n",
    "print(f'dQ = {dQ}')\n"
   ]
  },
  {
   "cell_type": "markdown",
   "id": "9222ba07",
   "metadata": {},
   "source": [
    "# Rule 2 function"
   ]
  },
  {
   "cell_type": "code",
   "execution_count": 3,
   "id": "dc17a273",
   "metadata": {},
   "outputs": [
    {
     "name": "stdout",
     "output_type": "stream",
     "text": [
      "dQ = 199.65\n"
     ]
    }
   ],
   "source": [
    "def rule2(c, m, A, dA):\n",
    "    dQ = c * m * A ** (m-1) * dA\n",
    "    return dQ\n",
    "c = 3\n",
    "m = 4\n",
    "A = 5.5\n",
    "dA = .1\n",
    "dQ = rule2(c, m, A, dA)\n",
    "print(f'dQ = {dQ}')"
   ]
  },
  {
   "cell_type": "markdown",
   "id": "30d61173",
   "metadata": {},
   "source": [
    "# Rule 3 Function"
   ]
  },
  {
   "cell_type": "code",
   "execution_count": 4,
   "id": "48e929e7",
   "metadata": {},
   "outputs": [
    {
     "name": "stdout",
     "output_type": "stream",
     "text": [
      "dQ = 2.5238858928247927\n"
     ]
    }
   ],
   "source": [
    "def rule3(dA, dB):\n",
    "    dQ = np.sqrt(dA**2 + dB**2)\n",
    "    return dQ\n",
    "dA = 1.4\n",
    "dB = 2.1\n",
    "\n",
    "dQ = rule3(dA,dB)\n",
    "print(f'dQ = {dQ}')\n"
   ]
  },
  {
   "cell_type": "markdown",
   "id": "0beeb550",
   "metadata": {},
   "source": [
    "# Rule 4 Function"
   ]
  },
  {
   "cell_type": "code",
   "execution_count": 8,
   "id": "fcae52ab",
   "metadata": {},
   "outputs": [
    {
     "name": "stdout",
     "output_type": "stream",
     "text": [
      "dQ = 0.10000000000000002\n"
     ]
    }
   ],
   "source": [
    "def rule4(Q, A, m, dA, B, n, dB):\n",
    "    dQ = Q * np.sqrt(((m * dA) / A) ** 2 +((n * dB) / B) ** 2)\n",
    "    return dQ\n",
    "dQ = rule4(2.0, 2.0, .01, 3.0, 2.0, .02, 6.0)\n",
    "print(f'dQ = {dQ}')"
   ]
  },
  {
   "cell_type": "markdown",
   "id": "bb3c5256",
   "metadata": {},
   "source": [
    "# V init  calculations"
   ]
  },
  {
   "cell_type": "code",
   "execution_count": 24,
   "id": "f7a5d1cb",
   "metadata": {},
   "outputs": [
    {
     "name": "stdout",
     "output_type": "stream",
     "text": [
      "dVi = 0.01039176914168311\n"
     ]
    }
   ],
   "source": [
    "dVi = rule4(Q = 3.534, A = 1.588, dA = .0046, m = 1, B = .989, dB = .001, n = -.5)\n",
    "print(f'dVi = {dVi}')"
   ]
  },
  {
   "cell_type": "markdown",
   "id": "62f4ce12",
   "metadata": {},
   "source": [
    "The error in the initial velocity calculated here is the same as I calculated"
   ]
  },
  {
   "cell_type": "markdown",
   "id": "173a291b",
   "metadata": {},
   "source": [
    "# use for calculations"
   ]
  },
  {
   "cell_type": "code",
   "execution_count": 22,
   "id": "8863b90c",
   "metadata": {},
   "outputs": [
    {
     "name": "stdout",
     "output_type": "stream",
     "text": [
      "The mean value of x is 1.1166666666666667\n",
      "The error in x is 0.073282810879294\n"
     ]
    }
   ],
   "source": [
    "x = np.array([1.1, 1.3, 1.4, 0.9, 0.95, 1.05])\n",
    "x_avg = np.average(x)\n",
    "print(f'The mean value of x is {x_avg}')\n",
    "err_x = np.std(x)/np.sqrt(len(x))\n",
    "print(f'The error in x is {err_x}')"
   ]
  },
  {
   "cell_type": "markdown",
   "id": "dbe50505",
   "metadata": {},
   "source": [
    "# Latex"
   ]
  },
  {
   "cell_type": "markdown",
   "id": "0810a34a",
   "metadata": {},
   "source": [
    "# Rule 3"
   ]
  },
  {
   "cell_type": "markdown",
   "id": "5f74be20",
   "metadata": {},
   "source": [
    "$\\delta Q = \\sqrt{(\\delta A)^2 + (\\delta B)^2}$"
   ]
  },
  {
   "cell_type": "markdown",
   "id": "9a3e174e",
   "metadata": {},
   "source": [
    "# Delta Vi calculations"
   ]
  },
  {
   "cell_type": "markdown",
   "id": "e922199f",
   "metadata": {},
   "source": [
    "$\\delta V_i = V_i \\sqrt{(\\frac{1 \\cdot \\delta x}{x})^2 + (\\frac{\\frac{1}{2} \\cdot \\delta y} {y})^2}$"
   ]
  },
  {
   "cell_type": "code",
   "execution_count": null,
   "id": "66cb51db",
   "metadata": {},
   "outputs": [],
   "source": []
  }
 ],
 "metadata": {
  "kernelspec": {
   "display_name": "Python 3 (ipykernel)",
   "language": "python",
   "name": "python3"
  },
  "language_info": {
   "codemirror_mode": {
    "name": "ipython",
    "version": 3
   },
   "file_extension": ".py",
   "mimetype": "text/x-python",
   "name": "python",
   "nbconvert_exporter": "python",
   "pygments_lexer": "ipython3",
   "version": "3.9.12"
  }
 },
 "nbformat": 4,
 "nbformat_minor": 5
}
